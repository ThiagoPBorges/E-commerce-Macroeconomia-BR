{
 "cells": [
  {
   "cell_type": "code",
   "execution_count": 96,
   "id": "c5a7d91d",
   "metadata": {},
   "outputs": [],
   "source": [
    "import pandas as pd # Fundamental para análise e manipulação de dados\n",
    "import requests # Para fazer requisições HTTP (acessar APIs, baixar dados da web)\n",
    "import os # Para interagir com o sistema operacional (manipular arquivos, pastas)\n",
    "from datetime import datetime # Módulo para trabalhar com datas e horas\n",
    "import yfinance as yt # Baixar dados do mercado financeiro (Yahoo Finance)\n",
    "from pytrends.request import TrendReq # Extrair dados de tendências de busca (Google Trends)\n",
    "from sidrapy import get_table # Função específica para buscar dados de tabelas do SIDRA (IBGE)\n",
    "import math"
   ]
  },
  {
   "cell_type": "code",
   "execution_count": 97,
   "id": "55c65af7",
   "metadata": {},
   "outputs": [],
   "source": [
    "start_date = '2020-01-01'\n",
    "end_date = datetime.now().strftime('%Y/%m/%d')\n",
    "\n",
    "data_raw_path = '../data_raw/'\n",
    "os.makedirs(data_raw_path, exist_ok=True)"
   ]
  },
  {
   "cell_type": "code",
   "execution_count": 98,
   "id": "8a210c4b",
   "metadata": {},
   "outputs": [],
   "source": [
    "#Defini os indicadores a serem buscados\n",
    "indicadores_bcb = {\n",
    "    '432': 'selic_meta',      # SELIC (Meta) - Mensal\n",
    "    '433': 'ipca_mensal',     # IPCA (Var. % mensal) - Mensal\n",
    "    '24364': 'ibc_br',        # IBC-Br (Proxy do PIB, c/ ajuste) - Mensal\n",
    "    '4393': 'icc_consumidor' # Índice de Confiança do Consumidor - Mensal\n",
    "}"
   ]
  },
  {
   "cell_type": "code",
   "execution_count": 99,
   "id": "1dceab1a",
   "metadata": {},
   "outputs": [],
   "source": [
    "#Busca uma série temporal do SGS (BCB) e salva em um arquivo CSV na pasta data_raw\n",
    "\n",
    "start_date_fmt = datetime.strptime(start_date, '%Y-%m-%d').strftime('%d/%m/%Y')\n",
    "end_date_fmt = datetime.now().strftime('%d/%m/%Y')\n",
    "\n",
    "def dados_bc (codigo_indicador, nome_indicador):\n",
    "\n",
    "    url_api = f\"http://api.bcb.gov.br/dados/serie/bcdata.sgs.{codigo_indicador}/dados?formato=json&dataInicial={start_date_fmt}&dataFinal={end_date_fmt}\"\n",
    "    \n",
    "    #Chamar a API\n",
    "    response = requests.get(url_api)\n",
    "    \n",
    "    if response.status_code == 200: #Código 200 significa êxito\n",
    "        dados_json = response.json()\n",
    "        \n",
    "        if not dados_json: # Checagem extra: e se a API retornar 'ok' mas sem dados?\n",
    "            print(f\"   > AVISO: Série {nome_indicador} não retornou dados.\")\n",
    "            return\n",
    "\n",
    "        # Converte para DataFrame\n",
    "        df = pd.DataFrame(dados_json)\n",
    "        \n",
    "        # Limpeza Tratamento de tipos\n",
    "        df['data'] = pd.to_datetime(df['data'], format='%d/%m/%Y')\n",
    "        df['valor'] = pd.to_numeric(df['valor'])\n",
    "        \n",
    "        # Renomeia a coluna 'valor' para o nome do indicador\n",
    "        df = df.rename(columns={'valor': nome_indicador})\n",
    "        \n",
    "        # Salvar o arquivo CSV individual\n",
    "        file_path = os.path.join(data_raw_path, f'{nome_indicador}.csv')\n",
    "        df.to_csv(file_path, index=False)\n",
    "        \n",
    "        print(f\"   > Sucesso. Salvo em: {file_path}\")\n",
    "        \n",
    "    else:\n",
    "        # (sua lógica de erro)\n",
    "        print(f\"   > ERRO! Falha ao buscar {nome_indicador}. Status: {response.status_code}\")"
   ]
  },
  {
   "cell_type": "code",
   "execution_count": 100,
   "id": "de01b11a",
   "metadata": {},
   "outputs": [
    {
     "name": "stdout",
     "output_type": "stream",
     "text": [
      "   > Sucesso. Salvo em: ../data_raw/selic_meta.csv\n",
      "   > Sucesso. Salvo em: ../data_raw/ipca_mensal.csv\n",
      "   > Sucesso. Salvo em: ../data_raw/ibc_br.csv\n",
      "   > Sucesso. Salvo em: ../data_raw/icc_consumidor.csv\n"
     ]
    }
   ],
   "source": [
    "for codigo, nome in indicadores_bcb.items():\n",
    "    dados_bc(codigo, nome)"
   ]
  },
  {
   "cell_type": "code",
   "execution_count": null,
   "id": "a3a39566",
   "metadata": {},
   "outputs": [
    {
     "name": "stdout",
     "output_type": "stream",
     "text": [
      "\n",
      "--- Iniciando Coleta de Dados do IBGE (SIDRA) ---\n",
      "   > Buscando: Taxa de Desocupação (PNAD Tabela 4095)...\n",
      "   > Período usado: 'all' (vamos filtrar localmente)\n",
      "   > Sucesso (Trimestral). Salvo em: ../data_raw/desemprego_trimestral.csv\n",
      "   > Buscando: PIB Variação Anual (Contas Trimestrais Tabela 1620)...\n",
      "   > Período usado: 'all' (vamos filtrar localmente)\n",
      "   > Sucesso (Trimestral). Salvo em: ../data_raw/pib_trimestral.csv\n",
      "\n",
      "--- Coleta de Dados do IBGE Finalizada! ---\n"
     ]
    }
   ],
   "source": [
    "# --- Bloco 6: Coleta de Dados do IBGE (SIDRA) (VERSÃO 6 - Robusta) ---\n",
    "\n",
    "print(\"\\n--- Iniciando Coleta de Dados do IBGE (SIDRA) ---\")\n",
    "\n",
    "try:\n",
    "    # -----------------------------------------------------------\n",
    "    # 1. Busca da Taxa de Desocupação (PNAD Contínua - TRIMESTRAL)\n",
    "    # -----------------------------------------------------------\n",
    "    \n",
    "    desemprego_df = get_table(\n",
    "        table_code='4095',\n",
    "        territorial_level='1',\n",
    "        ibge_territorial_code='all',\n",
    "        variable='4099',\n",
    "        period='all' \n",
    "    )\n",
    "    \n",
    "    # Limpeza Mínima (PNAD):\n",
    "    if not desemprego_df.empty:\n",
    "        desemprego_df = desemprego_df.loc[1:, ['V', 'D2C']]\n",
    "        desemprego_df.columns = ['taxa_desocupacao', 'periodo_codigo_trimestre']\n",
    "        \n",
    "        # --- MUDANÇA: Adicionado errors='coerce' por segurança ---\n",
    "        desemprego_df['taxa_desocupacao'] = pd.to_numeric(desemprego_df['taxa_desocupacao'], errors='coerce')\n",
    "        \n",
    "        # Filtro Local\n",
    "        desemprego_df = desemprego_df[desemprego_df['periodo_codigo_trimestre'] >= '202001']\n",
    "        \n",
    "        file_path = os.path.join(data_raw_path, 'desemprego_trimestral.csv')\n",
    "        desemprego_df.to_csv(file_path, index=False)\n",
    "        print(f\"   > Sucesso (Trimestral). Salvo em: {file_path}\")\n",
    "    else:\n",
    "        print(\"   > AVISO: Dados de desemprego (PNAD) não retornaram.\")\n",
    "        \n",
    "    # -----------------------------------------------------------\n",
    "    # 2. Busca do PIB (Contas Nacionais - TRIMESTRAL)\n",
    "    # -----------------------------------------------------------\n",
    "    \n",
    "    pib_df = get_table(\n",
    "        table_code='1620',\n",
    "        territorial_level='1',\n",
    "        ibge_territorial_code='all',\n",
    "        variable='583',\n",
    "        period='all'\n",
    "    )\n",
    "    \n",
    "    # Limpeza Mínima (PIB):\n",
    "    if not pib_df.empty:\n",
    "        pib_df = pib_df.loc[1:, ['V', 'D2C']]\n",
    "        pib_df.columns = ['pib_var_ano', 'periodo_codigo_trimestre']\n",
    "        \n",
    "        # --- MUDANÇA: Adicionado errors='coerce' para corrigir o bug do \"..\" ---\n",
    "        pib_df['pib_var_ano'] = pd.to_numeric(pib_df['pib_var_ano'], errors='coerce')\n",
    "        \n",
    "        # Filtro Local\n",
    "        pib_df = pib_df[pib_df['periodo_codigo_trimestre'] >= '202001']\n",
    "        \n",
    "        file_path = os.path.join(data_raw_path, 'pib_trimestral.csv')\n",
    "        pib_df.to_csv(file_path, index=False)\n",
    "        print(f\"   > Sucesso (Trimestral). Salvo em: {file_path}\")\n",
    "    else:\n",
    "        print(\"   > AVISO: Dados do PIB (Contas Nacionais) não retornaram.\")\n",
    "        \n",
    "except Exception as e:\n",
    "    print(f\"   > ERRO GERAL! Falha ao buscar dados do IBGE: {e}\")\n",
    "\n",
    "print(\"\\n--- Coleta de Dados do IBGE Finalizada! ---\")"
   ]
  }
 ],
 "metadata": {
  "kernelspec": {
   "display_name": "Python 3",
   "language": "python",
   "name": "python3"
  },
  "language_info": {
   "codemirror_mode": {
    "name": "ipython",
    "version": 3
   },
   "file_extension": ".py",
   "mimetype": "text/x-python",
   "name": "python",
   "nbconvert_exporter": "python",
   "pygments_lexer": "ipython3",
   "version": "3.13.7"
  }
 },
 "nbformat": 4,
 "nbformat_minor": 5
}
