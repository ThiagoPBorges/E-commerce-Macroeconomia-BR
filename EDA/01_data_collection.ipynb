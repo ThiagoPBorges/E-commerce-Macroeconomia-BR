{
 "cells": [
  {
   "cell_type": "markdown",
   "id": "c745dca0",
   "metadata": {},
   "source": [
    "Importação bibliotecas"
   ]
  },
  {
   "cell_type": "code",
   "execution_count": 134,
   "id": "c5a7d91d",
   "metadata": {},
   "outputs": [],
   "source": [
    "import pandas as pd # Fundamental para análise e manipulação de dados\n",
    "import requests # Para fazer requisições HTTP (acessar APIs, baixar dados da web)\n",
    "import os # Para interagir com o sistema operacional (manipular arquivos, pastas)\n",
    "from datetime import datetime # Módulo para trabalhar com datas e horas\n",
    "import yfinance as yt # Baixar dados do mercado financeiro (Yahoo Finance)\n",
    "from pytrends.request import TrendReq # Extrair dados de tendências de busca (Google Trends)\n",
    "from sidrapy import get_table # Função específica para buscar dados de tabelas do SIDRA (IBGE)"
   ]
  },
  {
   "cell_type": "markdown",
   "id": "4dcbe369",
   "metadata": {},
   "source": [
    "Variáveis centrais"
   ]
  },
  {
   "cell_type": "code",
   "execution_count": 135,
   "id": "55c65af7",
   "metadata": {},
   "outputs": [],
   "source": [
    "start_date = '2020-01-01'\n",
    "end_date = datetime.now().strftime('%Y/%m/%d')\n",
    "\n",
    "data_raw_path = '../data_raw/'\n",
    "os.makedirs(data_raw_path, exist_ok=True)"
   ]
  },
  {
   "cell_type": "markdown",
   "id": "3de75694",
   "metadata": {},
   "source": [
    "Definição {dicionário} de indicadores BCB"
   ]
  },
  {
   "cell_type": "code",
   "execution_count": 136,
   "id": "8a210c4b",
   "metadata": {},
   "outputs": [],
   "source": [
    "indicadores_bcb = {\n",
    "    '432': 'selic_meta',      # SELIC (Meta) - Mensal\n",
    "    '433': 'ipca_mensal',     # IPCA (Var. % mensal) - Mensal\n",
    "    '24364': 'ibc_br',        # IBC-Br (Proxy do PIB, c/ ajuste) - Mensal\n",
    "    '4393': 'icc_consumidor', # Índice de Confiança do Consumidor - Mensal\n",
    "    '24364': 'pib'            # Produto interno bruto - Mensal\n",
    "}"
   ]
  },
  {
   "cell_type": "markdown",
   "id": "f3adfc2c",
   "metadata": {},
   "source": [
    "Função de Coleta do Banco Central (SGS)\n",
    "\n",
    "- Busca os indicadores e salva em um arquivo CSV na pasta data_raw"
   ]
  },
  {
   "cell_type": "code",
   "execution_count": 137,
   "id": "1dceab1a",
   "metadata": {},
   "outputs": [],
   "source": [
    "def dados_bc (codigo_indicador, nome_indicador):\n",
    "\n",
    "    start_date_fmt = datetime.strptime(start_date, '%Y-%m-%d').strftime('%d/%m/%Y')\n",
    "    end_date_fmt = datetime.now().strftime('%d/%m/%Y')\n",
    "\n",
    "    url_api = f\"http://api.bcb.gov.br/dados/serie/bcdata.sgs.{codigo_indicador}/dados?formato=json&dataInicial={start_date_fmt}&dataFinal={end_date_fmt}\"\n",
    "    \n",
    "    #Chamar a API\n",
    "    response = requests.get(url_api)\n",
    "    \n",
    "    if response.status_code == 200: #Código 200 significa êxito\n",
    "        dados_json = response.json()\n",
    "        \n",
    "        if not dados_json: # Check se a API retornar sem dados\n",
    "            print(f\"   > AVISO: Série {nome_indicador} não retornou dados.\")\n",
    "            return\n",
    "\n",
    "        # Converte para DataFrame\n",
    "        df = pd.DataFrame(dados_json)\n",
    "        \n",
    "        # Renomeia a coluna 'valor' para o nome do indicador\n",
    "        df = df.rename(columns={'valor': nome_indicador})\n",
    "        \n",
    "        # Salvar o arquivo CSV individual (Criando novas pastas)\n",
    "        file_path = os.path.join(data_raw_path, f'{nome_indicador}.csv')\n",
    "        df.to_csv(file_path, index=False)\n",
    "        \n",
    "        print(f\"   > Sucesso. Salvo em: {file_path}\")\n",
    "        \n",
    "    else:\n",
    "        print(f\"   > ERRO! Falha ao buscar {nome_indicador}. Status: {response.status_code}\")"
   ]
  },
  {
   "cell_type": "markdown",
   "id": "748fade8",
   "metadata": {},
   "source": [
    "Loop para a função de coleta BCB"
   ]
  },
  {
   "cell_type": "code",
   "execution_count": 138,
   "id": "de01b11a",
   "metadata": {},
   "outputs": [
    {
     "name": "stdout",
     "output_type": "stream",
     "text": [
      "   > Sucesso. Salvo em: ../data_raw/selic_meta.csv\n",
      "   > Sucesso. Salvo em: ../data_raw/ipca_mensal.csv\n",
      "   > Sucesso. Salvo em: ../data_raw/pib.csv\n",
      "   > Sucesso. Salvo em: ../data_raw/icc_consumidor.csv\n"
     ]
    }
   ],
   "source": [
    "for codigo, nome in indicadores_bcb.items():\n",
    "    dados_bc(codigo, nome)"
   ]
  },
  {
   "cell_type": "markdown",
   "id": "6a85fc5a",
   "metadata": {},
   "source": [
    "Coleta Taxa de Desocupação (IBGE/SIDRA)"
   ]
  },
  {
   "cell_type": "code",
   "execution_count": 139,
   "id": "a3a39566",
   "metadata": {},
   "outputs": [
    {
     "name": "stdout",
     "output_type": "stream",
     "text": [
      "   > Sucesso. Salvo em: ../data_raw/desemprego_trimestral.csv\n"
     ]
    }
   ],
   "source": [
    "try:\n",
    "    \n",
    "    desemprego_df = get_table(\n",
    "        table_code='4095',\n",
    "        territorial_level='1',\n",
    "        ibge_territorial_code='all',\n",
    "        variable='4099',\n",
    "        period='all' \n",
    "    )\n",
    "    \n",
    "    if not desemprego_df.empty:\n",
    "        desemprego_df = desemprego_df.loc[1:, ['V', 'D2C']]\n",
    "        desemprego_df.columns = ['taxa_desocupacao', 'periodo_codigo_trimestre']\n",
    "        desemprego_df['taxa_desocupacao'] = pd.to_numeric(desemprego_df['taxa_desocupacao'], errors='coerce')\n",
    "        # Filtro de data\n",
    "        desemprego_df = desemprego_df[desemprego_df['periodo_codigo_trimestre'] >= '202001']\n",
    "        \n",
    "        file_path = os.path.join(data_raw_path, 'desemprego_trimestral.csv')\n",
    "        desemprego_df.to_csv(file_path, index=False)\n",
    "        print(f\"   > Sucesso. Salvo em: {file_path}\")\n",
    "    else:\n",
    "        print(\"   > AVISO: Dados de desemprego não retornaram.\")\n",
    "        \n",
    "except Exception as e:\n",
    "    print(f\"   > ERRO GERAL! Falha ao buscar Taxa de Desocupação : {e}\")"
   ]
  }
 ],
 "metadata": {
  "kernelspec": {
   "display_name": "Python 3",
   "language": "python",
   "name": "python3"
  },
  "language_info": {
   "codemirror_mode": {
    "name": "ipython",
    "version": 3
   },
   "file_extension": ".py",
   "mimetype": "text/x-python",
   "name": "python",
   "nbconvert_exporter": "python",
   "pygments_lexer": "ipython3",
   "version": "3.13.7"
  }
 },
 "nbformat": 4,
 "nbformat_minor": 5
}
