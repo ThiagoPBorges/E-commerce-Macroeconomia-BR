{
 "cells": [
  {
   "cell_type": "markdown",
   "id": "c745dca0",
   "metadata": {},
   "source": [
    "Importação bibliotecas"
   ]
  },
  {
   "cell_type": "code",
   "execution_count": 1,
   "id": "c5a7d91d",
   "metadata": {},
   "outputs": [],
   "source": [
    "import pandas as pd # Fundamental para análise e manipulação de dados\n",
    "import requests # Para fazer requisições HTTP (acessar APIs, baixar dados da web)\n",
    "import os # Para interagir com o sistema operacional (manipular arquivos, pastas)\n",
    "from datetime import datetime # Módulo para trabalhar com datas e horas\n",
    "import yfinance as yf # Baixar dados do mercado financeiro (Yahoo Finance)\n",
    "from pytrends.request import TrendReq # Extrair dados de tendências de busca (Google Trends)\n",
    "from sidrapy import get_table # Função específica para buscar dados de tabelas do SIDRA (IBGE)"
   ]
  },
  {
   "cell_type": "markdown",
   "id": "f3adfc2c",
   "metadata": {},
   "source": [
    "Função de Coleta do Banco Central (SGS)\n",
    "\n",
    "- Busca os indicadores e salva em um arquivo CSV na pasta data_raw"
   ]
  },
  {
   "cell_type": "code",
   "execution_count": null,
   "id": "1dceab1a",
   "metadata": {},
   "outputs": [
    {
     "name": "stdout",
     "output_type": "stream",
     "text": [
      "   > Sucesso. Salvo em: ../data_raw/selic_meta.csv\n",
      "   > Sucesso. Salvo em: ../data_raw/ipca_mensal.csv\n",
      "   > Sucesso. Salvo em: ../data_raw/icc_consumidor_mensal.csv\n",
      "   > Sucesso. Salvo em: ../data_raw/pib_mensal.csv\n"
     ]
    }
   ],
   "source": [
    "start_date = '2020-01-01'\n",
    "end_date = datetime.now().strftime('%Y/%m/%d')\n",
    "data_raw_path = '../data_raw/'\n",
    "\n",
    "# Se existir a pasta ok, se não é criada\n",
    "os.makedirs(data_raw_path, exist_ok=True)\n",
    "\n",
    "# Definição {dicionário} de indicadores BCB\n",
    "indicadores_bcb = {\n",
    "    '432': 'selic_meta',             # SELIC (Meta) - Mensal\n",
    "    '433': 'ipca_mensal',            # IPCA (Var. % mensal) - Mensal\n",
    "    '4393': 'icc_consumidor_mensal', # Índice de Confiança do Consumidor - Mensal\n",
    "    '24364': 'pib_mensal'            # Produto interno bruto - Mensal\n",
    "}\n",
    "\n",
    "def dados_bc (codigo_indicador, nome_indicador):\n",
    "\n",
    "    start_date_fmt = datetime.strptime(start_date, '%Y-%m-%d').strftime('%d/%m/%Y')\n",
    "    end_date_fmt = datetime.now().strftime('%d/%m/%Y')\n",
    "\n",
    "    url_api = f\"http://api.bcb.gov.br/dados/serie/bcdata.sgs.{codigo_indicador}/dados?formato=json&dataInicial={start_date_fmt}&dataFinal={end_date_fmt}\"\n",
    "    \n",
    "    #Chamar a API\n",
    "    response = requests.get(url_api)\n",
    "    \n",
    "    if response.status_code == 200: #Código 200 significa êxito\n",
    "        dados_json = response.json()\n",
    "        \n",
    "        if not dados_json: # Check se a API retornar sem dados\n",
    "            print(f\"   > AVISO: Série {nome_indicador} não retornou dados.\")\n",
    "            return\n",
    "\n",
    "        # Converte para DataFrame\n",
    "        df = pd.DataFrame(dados_json)\n",
    "        \n",
    "        # Renomeia a coluna 'valor' para o nome do indicador\n",
    "        df = df.rename(columns={'valor': nome_indicador})\n",
    "        \n",
    "        # Salvar o arquivo CSV individual (Criando novas pastas)\n",
    "        file_path = os.path.join(data_raw_path, f'{nome_indicador}.csv')\n",
    "        df.to_csv(file_path, index=False)\n",
    "        \n",
    "        print(f\"   > Sucesso. Salvo em: {file_path}\")\n",
    "        \n",
    "    else:\n",
    "        print(f\"   > ERRO! Falha ao buscar {nome_indicador}. Status: {response.status_code}\")\n",
    "\n",
    "# Loop para a função de coleta BCB\n",
    "for codigo, nome in indicadores_bcb.items():\n",
    "    dados_bc(codigo, nome)"
   ]
  },
  {
   "cell_type": "markdown",
   "id": "6a85fc5a",
   "metadata": {},
   "source": [
    "Coleta Taxa de Desocupação (IBGE/SIDRA)"
   ]
  },
  {
   "cell_type": "code",
   "execution_count": 13,
   "id": "a3a39566",
   "metadata": {},
   "outputs": [
    {
     "name": "stdout",
     "output_type": "stream",
     "text": [
      "   > Sucesso. Salvo em: ../data_raw/desemprego_trimestral.csv\n"
     ]
    }
   ],
   "source": [
    "try:\n",
    "    df_pmc = get_table(\n",
    "        table_code='4095',\n",
    "        territorial_level='1',\n",
    "        ibge_territorial_code='all',\n",
    "        variable='4099',\n",
    "        period='all' \n",
    "    )\n",
    "    \n",
    "    if not df_pmc.empty:\n",
    "        df_pmc = df_pmc.loc[1:, ['V', 'D2C']]\n",
    "        df_pmc.columns = ['taxa_desocupacao', 'periodo_codigo_trimestre']\n",
    "        df_pmc['taxa_desocupacao'] = pd.to_numeric(df_pmc['taxa_desocupacao'], errors='coerce')\n",
    "        # Filtro de data\n",
    "        df_pmc = df_pmc[df_pmc['periodo_codigo_trimestre'] >= '201904']\n",
    "        \n",
    "        file_path = os.path.join(data_raw_path, 'desemprego_trimestral.csv')\n",
    "        df_pmc.to_csv(file_path, index=False)\n",
    "        print(f\"   > Sucesso. Salvo em: {file_path}\")\n",
    "    else:\n",
    "        print(\"   > AVISO: Dados de desemprego não retornaram.\")\n",
    "        \n",
    "except Exception as e:\n",
    "    print(f\"   > ERRO GERAL! Falha ao buscar Taxa de Desocupação : {e}\")"
   ]
  },
  {
   "cell_type": "markdown",
   "id": "84277700",
   "metadata": {},
   "source": [
    "Coleta Google Trends para as empresas"
   ]
  },
  {
   "cell_type": "code",
   "execution_count": 5,
   "id": "e21b34ca",
   "metadata": {},
   "outputs": [
    {
     "name": "stdout",
     "output_type": "stream",
     "text": [
      "   > Sucesso. Salvo Google Trends em: ../data_raw/gtrends.csv\n"
     ]
    },
    {
     "name": "stderr",
     "output_type": "stream",
     "text": [
      "c:\\Users\\Thiag\\AppData\\Local\\Programs\\Python\\Python313\\Lib\\site-packages\\pytrends\\request.py:260: FutureWarning: Downcasting object dtype arrays on .fillna, .ffill, .bfill is deprecated and will change in a future version. Call result.infer_objects(copy=False) instead. To opt-in to the future behavior, set `pd.set_option('future.no_silent_downcasting', True)`\n",
      "  df = df.fillna(False)\n"
     ]
    }
   ],
   "source": [
    "end_date = datetime.now().strftime('%Y-%m-%d')\n",
    "\n",
    "pytrends = TrendReq(hl='pt-BR', tz=360)\n",
    "\n",
    "keywords = ['Magazine Luiza', 'Casas Bahia', 'Mercado Livre']\n",
    "\n",
    "pytrends.build_payload(keywords, timeframe=f'2020-01-01 {end_date}',geo='BR')\n",
    "\n",
    "df = pytrends.interest_over_time()\n",
    "\n",
    "if not df.empty:\n",
    "    if 'isPartial' in df.columns:\n",
    "        df = df.drop(columns=['isPartial'])\n",
    "\n",
    "    file_path = os.path.join(data_raw_path, 'gtrends.csv')\n",
    "    df.to_csv(file_path, index_label='data')\n",
    "    print(f\"   > Sucesso. Salvo Google Trends em: {file_path}\")\n",
    "else:\n",
    "    print(\"   > AVISO: Dados do Google Trends não retornaram.\")"
   ]
  },
  {
   "cell_type": "markdown",
   "id": "6c81288d",
   "metadata": {},
   "source": [
    "Coleta Pesquisa mensal comércio"
   ]
  },
  {
   "cell_type": "code",
   "execution_count": 6,
   "id": "ff6c252c",
   "metadata": {},
   "outputs": [
    {
     "name": "stdout",
     "output_type": "stream",
     "text": [
      "         data  indice_PMC\n",
      "62 2025-03-01      104.42\n",
      "63 2025-04-01      104.11\n",
      "64 2025-05-01      108.39\n",
      "65 2025-06-01      101.99\n",
      "66 2025-07-01      106.58\n"
     ]
    }
   ],
   "source": [
    "start_date = '2020-01-01'\n",
    "\n",
    "url = \"https://api.bcb.gov.br/dados/serie/bcdata.sgs.1455/dados?formato=json\"\n",
    "df = pd.read_json(url)\n",
    "\n",
    "df['data'] = pd.to_datetime(df['data'], dayfirst=True)\n",
    "df = df[df['data'] >= start_date]\n",
    "\n",
    "df.rename(columns={'valor' : 'indice_PMC'},inplace=True)\n",
    "\n",
    "df.reset_index(drop=True,inplace=True)\n",
    "\n",
    "file_path = os.path.join(data_raw_path, 'pmc.csv')\n",
    "df.to_csv(file_path, index=False)\n",
    "\n",
    "print(df.tail())\n"
   ]
  }
 ],
 "metadata": {
  "kernelspec": {
   "display_name": "Python 3",
   "language": "python",
   "name": "python3"
  },
  "language_info": {
   "codemirror_mode": {
    "name": "ipython",
    "version": 3
   },
   "file_extension": ".py",
   "mimetype": "text/x-python",
   "name": "python",
   "nbconvert_exporter": "python",
   "pygments_lexer": "ipython3",
   "version": "3.13.7"
  }
 },
 "nbformat": 4,
 "nbformat_minor": 5
}
