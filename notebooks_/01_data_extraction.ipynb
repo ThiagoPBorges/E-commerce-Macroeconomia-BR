{
 "cells": [
  {
   "cell_type": "markdown",
   "id": "c745dca0",
   "metadata": {},
   "source": [
    "Importação bibliotecas"
   ]
  },
  {
   "cell_type": "code",
   "execution_count": 1,
   "id": "c5a7d91d",
   "metadata": {},
   "outputs": [],
   "source": [
    "import pandas as pd # Fundamental para análise e manipulação de dados\n",
    "import requests # Para fazer requisições HTTP (acessar APIs, baixar dados da web)\n",
    "import os # Para interagir com o sistema operacional (manipular arquivos, pastas)\n",
    "from datetime import datetime # Módulo para trabalhar com datas e horas\n",
    "import yfinance as yf # Baixar dados do mercado financeiro (Yahoo Finance)\n",
    "from pytrends.request import TrendReq # Extrair dados de tendências de busca (Google Trends)\n",
    "from sidrapy import get_table # Função específica para buscar dados de tabelas do SIDRA (IBGE)"
   ]
  },
  {
   "cell_type": "markdown",
   "id": "f3adfc2c",
   "metadata": {},
   "source": [
    "Função de Coleta do Banco Central (SGS)\n",
    "\n",
    "- Busca os indicadores e salva em um arquivo CSV na pasta data_raw"
   ]
  },
  {
   "cell_type": "code",
   "execution_count": 2,
   "id": "1dceab1a",
   "metadata": {},
   "outputs": [
    {
     "name": "stdout",
     "output_type": "stream",
     "text": [
      "   > Sucesso. Salvo em: ../data_raw/selic_meta.csv\n",
      "   > Sucesso. Salvo em: ../data_raw/ipca_mensal.csv\n",
      "   > Sucesso. Salvo em: ../data_raw/icc_consumidor_mensal.csv\n",
      "   > Sucesso. Salvo em: ../data_raw/pib_mensal.csv\n"
     ]
    }
   ],
   "source": [
    "# Variáveis centrais\n",
    "start_date = '2020-01-01'\n",
    "end_date = datetime.now().strftime('%Y/%m/%d')\n",
    "data_raw_path = '../data_raw/'\n",
    "# Se existir a pasta ok, se não é criada\n",
    "os.makedirs(data_raw_path, exist_ok=True)\n",
    "\n",
    "# Definição {dicionário} de indicadores BCB\n",
    "indicadores_bcb = {\n",
    "    '432': 'selic_meta',             # SELIC (Meta) - Mensal\n",
    "    '433': 'ipca_mensal',            # IPCA (Var. % mensal) - Mensal\n",
    "    '4393': 'icc_consumidor_mensal', # Índice de Confiança do Consumidor - Mensal\n",
    "    '24364': 'pib_mensal'            # Produto interno bruto - Mensal\n",
    "}\n",
    "\n",
    "def dados_bc (codigo_indicador, nome_indicador):\n",
    "\n",
    "    start_date_fmt = datetime.strptime(start_date, '%Y-%m-%d').strftime('%d/%m/%Y')\n",
    "    end_date_fmt = datetime.now().strftime('%d/%m/%Y')\n",
    "\n",
    "    url_api = f\"http://api.bcb.gov.br/dados/serie/bcdata.sgs.{codigo_indicador}/dados?formato=json&dataInicial={start_date_fmt}&dataFinal={end_date_fmt}\"\n",
    "    \n",
    "    #Chamar a API\n",
    "    response = requests.get(url_api)\n",
    "    \n",
    "    if response.status_code == 200: #Código 200 significa êxito\n",
    "        dados_json = response.json()\n",
    "        \n",
    "        if not dados_json: # Check se a API retornar sem dados\n",
    "            print(f\"   > AVISO: Série {nome_indicador} não retornou dados.\")\n",
    "            return\n",
    "\n",
    "        # Converte para DataFrame\n",
    "        df = pd.DataFrame(dados_json)\n",
    "        \n",
    "        # Renomeia a coluna 'valor' para o nome do indicador\n",
    "        df = df.rename(columns={'valor': nome_indicador})\n",
    "        \n",
    "        # Salvar o arquivo CSV individual (Criando novas pastas)\n",
    "        file_path = os.path.join(data_raw_path, f'{nome_indicador}.csv')\n",
    "        df.to_csv(file_path, index=False)\n",
    "        \n",
    "        print(f\"   > Sucesso. Salvo em: {file_path}\")\n",
    "        \n",
    "    else:\n",
    "        print(f\"   > ERRO! Falha ao buscar {nome_indicador}. Status: {response.status_code}\")\n",
    "\n",
    "# Loop para a função de coleta BCB\n",
    "for codigo, nome in indicadores_bcb.items():\n",
    "    dados_bc(codigo, nome)"
   ]
  },
  {
   "cell_type": "markdown",
   "id": "6a85fc5a",
   "metadata": {},
   "source": [
    "Coleta Taxa de Desocupação (IBGE/SIDRA)"
   ]
  },
  {
   "cell_type": "code",
   "execution_count": 3,
   "id": "a3a39566",
   "metadata": {},
   "outputs": [
    {
     "name": "stdout",
     "output_type": "stream",
     "text": [
      "   > Sucesso. Salvo em: ../data_raw/desemprego_trimestral.csv\n"
     ]
    }
   ],
   "source": [
    "try:\n",
    "    desemprego_df = get_table(\n",
    "        table_code='4095',\n",
    "        territorial_level='1',\n",
    "        ibge_territorial_code='all',\n",
    "        variable='4099',\n",
    "        period='all' \n",
    "    )\n",
    "    \n",
    "    if not desemprego_df.empty:\n",
    "        desemprego_df = desemprego_df.loc[1:, ['V', 'D2C']]\n",
    "        desemprego_df.columns = ['taxa_desocupacao', 'periodo_codigo_trimestre']\n",
    "        desemprego_df['taxa_desocupacao'] = pd.to_numeric(desemprego_df['taxa_desocupacao'], errors='coerce')\n",
    "        # Filtro de data\n",
    "        desemprego_df = desemprego_df[desemprego_df['periodo_codigo_trimestre'] >= '202001']\n",
    "        \n",
    "        file_path = os.path.join(data_raw_path, 'desemprego_trimestral.csv')\n",
    "        desemprego_df.to_csv(file_path, index=False)\n",
    "        print(f\"   > Sucesso. Salvo em: {file_path}\")\n",
    "    else:\n",
    "        print(\"   > AVISO: Dados de desemprego não retornaram.\")\n",
    "        \n",
    "except Exception as e:\n",
    "    print(f\"   > ERRO GERAL! Falha ao buscar Taxa de Desocupação : {e}\")"
   ]
  },
  {
   "cell_type": "markdown",
   "id": "a104772f",
   "metadata": {},
   "source": [
    "Coleta de Dados das Empresas (Yahoo Finance)"
   ]
  },
  {
   "cell_type": "code",
   "execution_count": null,
   "id": "4c8e8b61",
   "metadata": {},
   "outputs": [
    {
     "name": "stdout",
     "output_type": "stream",
     "text": [
      "   > Dados de magalu coletados e adicionados à lista.\n",
      "   > Dados de mercado_livre coletados e adicionados à lista.\n",
      "   > Dados de casas_bahia coletados e adicionados à lista.\n"
     ]
    }
   ],
   "source": [
    "# Dicionário com os Tickers \n",
    "tickers = {\n",
    "    'MGLU3': 'magalu',\n",
    "    'MELI': 'mercado_livre', # Ticker NASDAQ\n",
    "    'BHIA3': 'casas_bahia'\n",
    "}\n",
    "\n",
    "# Lista VAZIA para guardar os DataFrames de cada empresa\n",
    "lista_dfs_empresas = []\n",
    "\n",
    "# 3. Loop para buscar os dados de cada empresa\n",
    "for ticker, nome in tickers.items():\n",
    "\n",
    "    # --- Monta o ticker completo ---\n",
    "    if ticker != 'MELI':\n",
    "        ticker_completo = ticker + '.SA'\n",
    "    else:\n",
    "        ticker_completo = ticker\n",
    "\n",
    "    try:\n",
    "        empresa = yf.Ticker(ticker_completo)\n",
    "        dre_trimestral = empresa.quarterly_financials\n",
    "\n",
    "        if not dre_trimestral.empty:\n",
    "            # Transpõe a tabela (T) - Datas viram linhas\n",
    "            dre_trimestral_t = dre_trimestral.T\n",
    "            # reset_index() transforma o índice (data) em uma coluna 'data'\n",
    "            dre_com_data_coluna = dre_trimestral_t.reset_index()\n",
    "            # Adiciona a coluna 'empresa' com o nome atual do loop\n",
    "            dre_com_data_coluna['empresa'] = nome\n",
    "            # Adiciona o DataFrame à lista vazia\n",
    "            lista_dfs_empresas.append(dre_com_data_coluna)\n",
    "\n",
    "            print(f\"   > Dados de {nome} coletados e adicionados à lista.\")\n",
    "        else:\n",
    "             print(f\"   > AVISO: Não foram encontrados dados financeiros para {nome} ({ticker_completo}).\")\n",
    "\n",
    "    except Exception as e:\n",
    "        print(f\"   > ERRO GERAL! Falha ao buscar dados de {nome}: {e}\")\n",
    "\n",
    "# Verifica se a lista não está vazia\n",
    "if lista_dfs_empresas:\n",
    "    # Concatena todos os DataFrames da lista\n",
    "    df_empresas_consolidado = pd.concat(lista_dfs_empresas, ignore_index=True) # ignore_index=True cria um novo índice numérico para o DataFrame final\n",
    "    cols = df_empresas_consolidado.columns.to_list()\n",
    "    cols.remove('empresa')\n",
    "    new_order = ['empresa'] + cols\n",
    "    df_empresas_consolidado = df_empresas_consolidado[new_order]\n",
    "\n",
    "    # Salvar o DataFrame único\n",
    "    file_path_consolidado = os.path.join(data_raw_path, 'empresas_dre_trimestral.csv')\n",
    "    df_empresas_consolidado.to_csv(file_path_consolidado, index=False)\n",
    "\n",
    "else:\n",
    "    print(\"\\n   > AVISO: Nenhum dado de empresa foi coletado. Arquivo consolidado não gerado.\")"
   ]
  },
  {
   "cell_type": "markdown",
   "id": "84277700",
   "metadata": {},
   "source": [
    "Coleta Google Trends para as empresas"
   ]
  },
  {
   "cell_type": "code",
   "execution_count": 5,
   "id": "e21b34ca",
   "metadata": {},
   "outputs": [
    {
     "name": "stdout",
     "output_type": "stream",
     "text": [
      "   > Sucesso. Salvo Google Trends em: ../data_raw/gtrends.csv\n"
     ]
    },
    {
     "name": "stderr",
     "output_type": "stream",
     "text": [
      "c:\\Users\\Thiag\\AppData\\Local\\Programs\\Python\\Python313\\Lib\\site-packages\\pytrends\\request.py:260: FutureWarning: Downcasting object dtype arrays on .fillna, .ffill, .bfill is deprecated and will change in a future version. Call result.infer_objects(copy=False) instead. To opt-in to the future behavior, set `pd.set_option('future.no_silent_downcasting', True)`\n",
      "  df = df.fillna(False)\n"
     ]
    }
   ],
   "source": [
    "pytrends = TrendReq(hl='pt-BR', tz=360)\n",
    "\n",
    "keywords = ['Magazine Luiza', 'Casas Bahia', 'Mercado Livre']\n",
    "\n",
    "pytrends.build_payload(keywords, timeframe='today 5-y',geo='BR')\n",
    "\n",
    "df = pytrends.interest_over_time()\n",
    "\n",
    "if not df.empty:\n",
    "    if 'isPartial' in df.columns:\n",
    "        df = df.drop(columns=['isPartial'])\n",
    "\n",
    "    file_path = os.path.join(data_raw_path, 'gtrends.csv')\n",
    "    df.to_csv(file_path, index_label='data')\n",
    "    print(f\"   > Sucesso. Salvo Google Trends em: {file_path}\")\n",
    "else:\n",
    "    print(\"   > AVISO: Dados do Google Trends não retornaram.\")"
   ]
  }
 ],
 "metadata": {
  "kernelspec": {
   "display_name": "Python 3",
   "language": "python",
   "name": "python3"
  },
  "language_info": {
   "codemirror_mode": {
    "name": "ipython",
    "version": 3
   },
   "file_extension": ".py",
   "mimetype": "text/x-python",
   "name": "python",
   "nbconvert_exporter": "python",
   "pygments_lexer": "ipython3",
   "version": "3.13.7"
  }
 },
 "nbformat": 4,
 "nbformat_minor": 5
}
