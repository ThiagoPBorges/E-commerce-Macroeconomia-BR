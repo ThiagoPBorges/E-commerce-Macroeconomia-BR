{
 "cells": [
  {
   "cell_type": "code",
   "execution_count": 1,
   "id": "7122d7d0",
   "metadata": {},
   "outputs": [],
   "source": [
    "import pandas as pd\n",
    "import numpy as np\n",
    "import matplotlib.pyplot as plt\n",
    "import seaborn as sns\n",
    "import os\n",
    "\n",
    "\n",
    "sns.set_theme(style=\"dark\")\n"
   ]
  },
  {
   "cell_type": "code",
   "execution_count": 4,
   "id": "e0c3a982",
   "metadata": {},
   "outputs": [
    {
     "name": "stdout",
     "output_type": "stream",
     "text": [
      "<class 'pandas.core.frame.DataFrame'>\n",
      "DatetimeIndex: 67 entries, 2020-01-31 to 2025-07-31\n",
      "Data columns (total 8 columns):\n",
      " #   Column                    Non-Null Count  Dtype  \n",
      "---  ------                    --------------  -----  \n",
      " 0   selic_media_mensal        67 non-null     float64\n",
      " 1   pmc_vendas_varejo         67 non-null     float64\n",
      " 2   gtrends_magazine_luiza    67 non-null     float64\n",
      " 3   gtrends_casas_bahia       67 non-null     float64\n",
      " 4   gtrends_mercado_livre     67 non-null     float64\n",
      " 5   ipca_variacao_mensal      67 non-null     float64\n",
      " 6   icc_confianca_consumidor  67 non-null     float64\n",
      " 7   desemprego_taxa           67 non-null     float64\n",
      "dtypes: float64(8)\n",
      "memory usage: 4.7 KB\n"
     ]
    }
   ],
   "source": [
    "processed_data_path = '../data_processed/'\n",
    "master_file_path = os.path.join(processed_data_path, 'indicadores_mensal.csv')\n",
    "\n",
    "\n",
    "df = pd.read_csv(master_file_path, index_col='data', parse_dates=['data'])\n",
    "\n",
    "df.info()"
   ]
  }
 ],
 "metadata": {
  "kernelspec": {
   "display_name": "Python 3",
   "language": "python",
   "name": "python3"
  },
  "language_info": {
   "codemirror_mode": {
    "name": "ipython",
    "version": 3
   },
   "file_extension": ".py",
   "mimetype": "text/x-python",
   "name": "python",
   "nbconvert_exporter": "python",
   "pygments_lexer": "ipython3",
   "version": "3.13.7"
  }
 },
 "nbformat": 4,
 "nbformat_minor": 5
}
